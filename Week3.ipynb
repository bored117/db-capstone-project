{
 "cells": [
  {
   "cell_type": "markdown",
   "metadata": {},
   "source": [
    "Week 3 of DatabaseClient\n",
    "Task 1"
   ]
  },
  {
   "cell_type": "code",
   "execution_count": 8,
   "metadata": {},
   "outputs": [],
   "source": [
    "import sys\n",
    "sys.path.append('D:\\\\TEST')\n",
    "import mysqlcred\n",
    "import mysql.connector as connector\n",
    "connection = connector.connect(user = mysqlcred.user, password = mysqlcred.password, db=\"littlelemondb\")"
   ]
  },
  {
   "cell_type": "markdown",
   "metadata": {},
   "source": [
    "Task 2"
   ]
  },
  {
   "cell_type": "code",
   "execution_count": 9,
   "metadata": {},
   "outputs": [
    {
     "name": "stdout",
     "output_type": "stream",
     "text": [
      "('bookings',)\n",
      "('city',)\n",
      "('contactdetail',)\n",
      "('customer',)\n",
      "('menu',)\n",
      "('menucategory',)\n",
      "('menuitems',)\n",
      "('orderdeliverystatus',)\n",
      "('orders',)\n",
      "('ordersview',)\n",
      "('role',)\n",
      "('staff',)\n",
      "('state',)\n",
      "('status',)\n"
     ]
    }
   ],
   "source": [
    "cursor = connection.cursor()\n",
    "show_tables_query = \"SHOW tables\" \n",
    "cursor.execute(show_tables_query)\n",
    "result = cursor.fetchall()\n",
    "for res in result:\n",
    "    print(res)"
   ]
  },
  {
   "cell_type": "markdown",
   "metadata": {},
   "source": [
    "Task 3"
   ]
  },
  {
   "cell_type": "code",
   "execution_count": 10,
   "metadata": {},
   "outputs": [
    {
     "name": "stdout",
     "output_type": "stream",
     "text": [
      "('Ace Ventura', '111-222-3333', 'abc@gmail.com', '1 Main Street Suite 200', 'Los Angeles', 'CA', '90024-', Decimal('75.00'))\n",
      "('David Kim', '714-444-3333', '4bc@orange.com', '1 Orange Way ', 'Orange', 'CA', '93124-', Decimal('120.00'))\n"
     ]
    }
   ],
   "source": [
    "sSQL = \"\"\"\n",
    "select * from (\n",
    "\tselect c.Name as FullName, cd.PhoneNumber, cd.Email, Concat(ifnull(cd.Address1,''), ' ', ifnull(cd.Address2, '')) as Address, city.CITY, state.State, concat(cd.zipCode, '-', ifnull(cd.Zip4,'')) as ZIP, quantity * m.Price as TotalCost from customer c inner join orders o on c.idCustomer = o.Customer_idCustomer\n",
    "\t\tinner join menu m on o.Menu_idMenu = m.idMenu\n",
    "\t\tleft join contactdetail cd on c.ContactDetail_idContactDetail = cd.idContactDetail\n",
    "\t\tleft join city on city.idcity = cd.city_idcity\n",
    "\t\tleft join state on state.idState = cd.State_idState\n",
    "\t)  A  \n",
    "where TotalCost > 60\n",
    "\"\"\"\n",
    "cursor.execute(sSQL)\n",
    "result = cursor.fetchall()\n",
    "for res in result:\n",
    "\tprint(res)\n"
   ]
  }
 ],
 "metadata": {
  "kernelspec": {
   "display_name": "Python 3",
   "language": "python",
   "name": "python3"
  },
  "language_info": {
   "codemirror_mode": {
    "name": "ipython",
    "version": 3
   },
   "file_extension": ".py",
   "mimetype": "text/x-python",
   "name": "python",
   "nbconvert_exporter": "python",
   "pygments_lexer": "ipython3",
   "version": "3.12.3"
  }
 },
 "nbformat": 4,
 "nbformat_minor": 2
}
